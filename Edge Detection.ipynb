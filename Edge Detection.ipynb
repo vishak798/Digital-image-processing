{
 "cells": [
  {
   "cell_type": "code",
   "execution_count": 5,
   "id": "50adc1b8",
   "metadata": {},
   "outputs": [],
   "source": [
    "import cv2"
   ]
  },
  {
   "cell_type": "code",
   "execution_count": 6,
   "id": "ff8cec77",
   "metadata": {},
   "outputs": [],
   "source": [
    "img=cv2.imread('color_img.jpg',0)"
   ]
  },
  {
   "cell_type": "code",
   "execution_count": 7,
   "id": "cf12d3d1",
   "metadata": {},
   "outputs": [],
   "source": [
    "cv2.imshow('Image',img)\n",
    "cv2.waitKey(0)\n",
    "cv2.destroyAllWindows()"
   ]
  },
  {
   "cell_type": "code",
   "execution_count": 13,
   "id": "2aab21ba",
   "metadata": {},
   "outputs": [],
   "source": [
    "img_blur=cv2.GaussianBlur(img,(3,3),0)"
   ]
  },
  {
   "cell_type": "code",
   "execution_count": 14,
   "id": "df1da4f9",
   "metadata": {},
   "outputs": [],
   "source": [
    "cv2.imshow('Image',img_blur)\n",
    "cv2.waitKey(0)\n",
    "cv2.destroyAllWindows()"
   ]
  },
  {
   "cell_type": "code",
   "execution_count": 15,
   "id": "b09c3032",
   "metadata": {},
   "outputs": [],
   "source": [
    "# Canny Edge Detection\n",
    "edges = cv2.Canny(image=img_blur, threshold1=100, threshold2=200) # Canny Edge Detection\n",
    "# Display Canny Edge Detection Image\n",
    "cv2.imshow('Canny Edge Detection', edges)\n",
    "cv2.waitKey(0)\n",
    "cv2.destroyAllWindows()\n"
   ]
  },
  {
   "cell_type": "code",
   "execution_count": null,
   "id": "64dae8c2",
   "metadata": {},
   "outputs": [],
   "source": []
  }
 ],
 "metadata": {
  "kernelspec": {
   "display_name": "Python 3 (ipykernel)",
   "language": "python",
   "name": "python3"
  },
  "language_info": {
   "codemirror_mode": {
    "name": "ipython",
    "version": 3
   },
   "file_extension": ".py",
   "mimetype": "text/x-python",
   "name": "python",
   "nbconvert_exporter": "python",
   "pygments_lexer": "ipython3",
   "version": "3.9.7"
  }
 },
 "nbformat": 4,
 "nbformat_minor": 5
}
