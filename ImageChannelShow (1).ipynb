{
 "cells": [
  {
   "cell_type": "code",
   "execution_count": 1,
   "metadata": {},
   "outputs": [],
   "source": [
    "import cv2\n",
    "img = cv2.imread('color_img.jpg')\n",
    "cv2.imshow('Color Image',img)\n",
    "cv2.waitKey(0)\n",
    "cv2.destroyAllWindows()"
   ]
  },
  {
   "cell_type": "code",
   "execution_count": 2,
   "metadata": {},
   "outputs": [
    {
     "name": "stdout",
     "output_type": "stream",
     "text": [
      "Blue Channel:\n",
      "[[255 255 255 ... 248 248 249]\n",
      " [255 255 255 ... 255 255 253]\n",
      " [255 255 255 ... 255 255 255]\n",
      " ...\n",
      " [ 36  36  36 ...  36  36  36]\n",
      " [ 36  36  36 ...  36  36  36]\n",
      " [ 36  36  36 ...  36  36  36]]\n"
     ]
    }
   ],
   "source": [
    "B, G, R = cv2.split(img)\n",
    "print(\"Blue Channel:\")\n",
    "print(B)"
   ]
  },
  {
   "cell_type": "code",
   "execution_count": 3,
   "metadata": {},
   "outputs": [
    {
     "name": "stdout",
     "output_type": "stream",
     "text": [
      "Green Channel:\n",
      "[[128 128 128 ... 127 126 127]\n",
      " [128 128 128 ... 130 132 133]\n",
      " [128 128 128 ...  93 110 120]\n",
      " ...\n",
      " [ 18  18  18 ...  18  18  18]\n",
      " [ 18  18  18 ...  18  18  18]\n",
      " [ 18  18  18 ...  18  18  18]]\n"
     ]
    }
   ],
   "source": [
    "print(\"Green Channel:\")\n",
    "print(G)"
   ]
  },
  {
   "cell_type": "code",
   "execution_count": 4,
   "metadata": {},
   "outputs": [
    {
     "name": "stdout",
     "output_type": "stream",
     "text": [
      "Red Channel:\n",
      "[[179 179 179 ... 225 226 227]\n",
      " [179 179 179 ... 233 230 227]\n",
      " [179 179 179 ... 222 229 236]\n",
      " ...\n",
      " [ 17  17  17 ...  17  17  17]\n",
      " [ 17  17  17 ...  17  17  17]\n",
      " [ 17  17  17 ...  17  17  17]]\n"
     ]
    }
   ],
   "source": [
    "print(\"Red Channel:\")\n",
    "print(R)"
   ]
  },
  {
   "cell_type": "code",
   "execution_count": 10,
   "metadata": {},
   "outputs": [],
   "source": [
    "#Display Blue Channel Image\n",
    "cv2.imshow(\"blue\", B) \n",
    "cv2.waitKey(0) \n",
    "cv2.destroyAllWindows()"
   ]
  },
  {
   "cell_type": "code",
   "execution_count": 11,
   "metadata": {},
   "outputs": [],
   "source": [
    "#Display Green Channel Image\n",
    "cv2.imshow(\"green\", G) \n",
    "cv2.waitKey(0) \n",
    "cv2.destroyAllWindows()"
   ]
  },
  {
   "cell_type": "code",
   "execution_count": 12,
   "metadata": {},
   "outputs": [],
   "source": [
    "#Display Red Channel Image\n",
    "cv2.imshow(\"red\", R) \n",
    "cv2.waitKey(0) \n",
    "cv2.destroyAllWindows()"
   ]
  },
  {
   "cell_type": "code",
   "execution_count": null,
   "metadata": {
    "collapsed": true
   },
   "outputs": [],
   "source": []
  }
 ],
 "metadata": {
  "kernelspec": {
   "display_name": "Python 3 (ipykernel)",
   "language": "python",
   "name": "python3"
  },
  "language_info": {
   "codemirror_mode": {
    "name": "ipython",
    "version": 3
   },
   "file_extension": ".py",
   "mimetype": "text/x-python",
   "name": "python",
   "nbconvert_exporter": "python",
   "pygments_lexer": "ipython3",
   "version": "3.9.7"
  }
 },
 "nbformat": 4,
 "nbformat_minor": 2
}
