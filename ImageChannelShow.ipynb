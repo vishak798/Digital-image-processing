{
 "cells": [
  {
   "cell_type": "code",
   "execution_count": 1,
   "metadata": {},
   "outputs": [],
   "source": [
    "import cv2\n",
    "img = cv2.imread('image.jpg')\n",
    "cv2.imshow('Color Image',img)\n",
    "cv2.waitKey(0)\n",
    "cv2.destroyAllWindows()"
   ]
  },
  {
   "cell_type": "code",
   "execution_count": 2,
   "metadata": {},
   "outputs": [
    {
     "name": "stdout",
     "output_type": "stream",
     "text": [
      "Blue Channel:\n",
      "[[158 159 159 ... 152 152 152]\n",
      " [159 159 159 ... 152 152 152]\n",
      " [159 159 159 ... 152 152 152]\n",
      " ...\n",
      " [183 183 183 ... 187 187 187]\n",
      " [185 185 185 ... 187 185 185]\n",
      " [185 185 185 ... 187 185 185]]\n"
     ]
    }
   ],
   "source": [
    "B, G, R = cv2.split(img)\n",
    "print(\"Blue Channel:\")\n",
    "print(B)"
   ]
  },
  {
   "cell_type": "code",
   "execution_count": 3,
   "metadata": {},
   "outputs": [
    {
     "name": "stdout",
     "output_type": "stream",
     "text": [
      "Green Channel:\n",
      "[[ 99 100 100 ...  93  92  92]\n",
      " [100 100 100 ...  93  92  92]\n",
      " [100 100 100 ...  93  92  92]\n",
      " ...\n",
      " [142 142 142 ... 137 137 137]\n",
      " [141 141 141 ... 137 137 136]\n",
      " [141 141 141 ... 137 136 136]]\n"
     ]
    }
   ],
   "source": [
    "print(\"Green Channel:\")\n",
    "print(G)"
   ]
  },
  {
   "cell_type": "code",
   "execution_count": 4,
   "metadata": {},
   "outputs": [
    {
     "name": "stdout",
     "output_type": "stream",
     "text": [
      "Red Channel:\n",
      "[[37 38 38 ... 37 38 38]\n",
      " [38 38 38 ... 37 38 38]\n",
      " [38 38 38 ... 37 38 38]\n",
      " ...\n",
      " [87 87 87 ... 77 77 79]\n",
      " [88 88 88 ... 79 79 80]\n",
      " [88 88 88 ... 79 80 80]]\n"
     ]
    }
   ],
   "source": [
    "print(\"Red Channel:\")\n",
    "print(R)"
   ]
  },
  {
   "cell_type": "code",
   "execution_count": 5,
   "metadata": {},
   "outputs": [],
   "source": [
    "#Display Blue Channel Image\n",
    "cv2.imshow(\"blue\", B) \n",
    "cv2.waitKey(0) \n",
    "cv2.destroyAllWindows()"
   ]
  },
  {
   "cell_type": "code",
   "execution_count": 6,
   "metadata": {},
   "outputs": [],
   "source": [
    "#Display Green Channel Image\n",
    "cv2.imshow(\"green\", G) \n",
    "cv2.waitKey(0) \n",
    "cv2.destroyAllWindows()"
   ]
  },
  {
   "cell_type": "code",
   "execution_count": 7,
   "metadata": {},
   "outputs": [],
   "source": [
    "#Display Red Channel Image\n",
    "cv2.imshow(\"red\", R) \n",
    "cv2.waitKey(0) \n",
    "cv2.destroyAllWindows()"
   ]
  },
  {
   "cell_type": "code",
   "execution_count": null,
   "metadata": {
    "collapsed": true
   },
   "outputs": [],
   "source": []
  }
 ],
 "metadata": {
  "kernelspec": {
   "display_name": "Python 3 (ipykernel)",
   "language": "python",
   "name": "python3"
  },
  "language_info": {
   "codemirror_mode": {
    "name": "ipython",
    "version": 3
   },
   "file_extension": ".py",
   "mimetype": "text/x-python",
   "name": "python",
   "nbconvert_exporter": "python",
   "pygments_lexer": "ipython3",
   "version": "3.8.8"
  }
 },
 "nbformat": 4,
 "nbformat_minor": 2
}
