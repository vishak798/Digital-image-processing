{
 "cells": [
  {
   "cell_type": "code",
   "execution_count": 19,
   "metadata": {},
   "outputs": [
    {
     "data": {
      "text/plain": [
       "-1"
      ]
     },
     "execution_count": 19,
     "metadata": {},
     "output_type": "execute_result"
    }
   ],
   "source": [
    "import cv2\n",
    "import numpy as np\n",
    "\n",
    "def rgb_to_gray(img):\n",
    "        grayImage = np.zeros(img.shape)\n",
    "        R = np.array(img[:, :, 0])\n",
    "        G = np.array(img[:, :, 1])\n",
    "        B = np.array(img[:, :, 2])\n",
    "\n",
    "        R = (R *.299)\n",
    "        G = (G *.587)\n",
    "        B = (B *.114)\n",
    "\n",
    "        Avg = (R+G+B)\n",
    "        grayImage = img.copy()\n",
    "\n",
    "        for i in range(3):\n",
    "            grayImage[:,:,i] = Avg\n",
    "           \n",
    "        return grayImage       \n",
    "    \n",
    "image = cv2.imread('color_img.jpg')\n",
    "\n",
    "cv2.imshow('Original', image)\n",
    "cv2.waitKey(0)\n",
    "\n",
    "cv2.imshow('Grayscale', rgb_to_gray(image))\n",
    "cv2.waitKey(0) "
   ]
  },
  {
   "cell_type": "code",
   "execution_count": null,
   "metadata": {},
   "outputs": [],
   "source": []
  }
 ],
 "metadata": {
  "kernelspec": {
   "display_name": "Python 3 (ipykernel)",
   "language": "python",
   "name": "python3"
  },
  "language_info": {
   "codemirror_mode": {
    "name": "ipython",
    "version": 3
   },
   "file_extension": ".py",
   "mimetype": "text/x-python",
   "name": "python",
   "nbconvert_exporter": "python",
   "pygments_lexer": "ipython3",
   "version": "3.9.7"
  }
 },
 "nbformat": 4,
 "nbformat_minor": 2
}
